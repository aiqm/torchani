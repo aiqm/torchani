{
  "cells": [
    {
      "cell_type": "markdown",
      "metadata": {},
      "source": [
        "\n# Computing vibrational frequencies\n\nTorchANI is able to use ASE interface to do structure optimization and\nvibration analysis, but the Hessian in ASE's vibration analysis is computed\nnumerically, which is slow and less accurate.\n\nTorchANI therefore provide an interface to compute the Hessian matrix and do\nvibration analysis analytically, thanks to the power of `torch.autograd`.\n"
      ]
    },
    {
      "cell_type": "markdown",
      "metadata": {},
      "source": [
        "As always, we start by importing the modules we need\n\n"
      ]
    },
    {
      "cell_type": "code",
      "execution_count": null,
      "metadata": {
        "collapsed": false
      },
      "outputs": [],
      "source": [
        "import ase\nfrom ase.optimize import LBFGS\n\nimport torch\nfrom torchani.models import ANI1x\nfrom torchani.grad import energies_forces_and_hessians, vibrational_analysis\nfrom torchani.utils import get_atomic_masses"
      ]
    },
    {
      "cell_type": "markdown",
      "metadata": {},
      "source": [
        "Let's now manually specify the device we want TorchANI to run:\n\n"
      ]
    },
    {
      "cell_type": "code",
      "execution_count": null,
      "metadata": {
        "collapsed": false
      },
      "outputs": [],
      "source": [
        "device = torch.device(\"cpu\")\nmodel = ANI1x(device=device, dtype=torch.double)"
      ]
    },
    {
      "cell_type": "markdown",
      "metadata": {},
      "source": [
        "Let's first construct a water molecule and do structure optimization:\n\n"
      ]
    },
    {
      "cell_type": "code",
      "execution_count": null,
      "metadata": {
        "collapsed": false
      },
      "outputs": [],
      "source": [
        "molecule = ase.Atoms(\n    symbols=(\"H\", \"H\", \"O\"),\n    positions=[\n        [0.9575, 0.0, 0.0],\n        [-0.23990064, 0.92695951, 0.0],\n        [0.0, 0.0, 0.0],\n    ],\n    calculator=model.ase(),\n)\nopt = LBFGS(molecule)\nopt.run(fmax=1e-6)"
      ]
    },
    {
      "cell_type": "markdown",
      "metadata": {},
      "source": [
        "Now let's extract coordinates and species from ASE to use it directly with\nTorchANI:\n\n"
      ]
    },
    {
      "cell_type": "code",
      "execution_count": null,
      "metadata": {
        "collapsed": false
      },
      "outputs": [],
      "source": [
        "species = torch.tensor(\n    molecule.get_atomic_numbers(),\n    device=device,\n    dtype=torch.long,\n).unsqueeze(0)\ncoordinates = torch.tensor(\n    molecule.get_positions(),\n    device=device,\n    dtype=torch.float,\n).unsqueeze(0)"
      ]
    },
    {
      "cell_type": "markdown",
      "metadata": {},
      "source": [
        "To do vibrational analysis, we need the hessian matrix. and the masses\nof the elements in AMU. The\nmasses in AMU can be obtained from a tensor with atomic numbers by using\nthe `torchani.utils.get_atomic_masses`, and the hessian can be calculated together\nwith the energies and forces (note that it is no loss to also calculate energies and\nforces, even when we don't use them, since TorchANI uses `torch.autograd` to do this,\nwhich would internally calculate energies and forces anyways).\n\n"
      ]
    },
    {
      "cell_type": "code",
      "execution_count": null,
      "metadata": {
        "collapsed": false
      },
      "outputs": [],
      "source": [
        "masses = get_atomic_masses(species, dtype=torch.float)\nhessian, _, _ = energies_forces_and_hessians(model, species, coordinates)"
      ]
    },
    {
      "cell_type": "markdown",
      "metadata": {},
      "source": [
        "The Hessian matrix should have shape ``(1, 9, 9)``, where 1 means there is only\none molecule to compute, 9 means \"3 atoms * 3D space = 9 degree of freedom\".\n\n"
      ]
    },
    {
      "cell_type": "code",
      "execution_count": null,
      "metadata": {
        "collapsed": false
      },
      "outputs": [],
      "source": [
        "hessian.shape"
      ]
    },
    {
      "cell_type": "markdown",
      "metadata": {},
      "source": [
        "We are now ready to compute vibrational frequencies. The output has unit\ncm^-1. Since there are in total 9 degree of freedom, there are in total 9\nfrequencies. Only the frequencies of the 3 vibrational modes are interesting.\nWe output the modes as MDU (mass deweighted unnormalized), to compare with ASE.\n\n"
      ]
    },
    {
      "cell_type": "code",
      "execution_count": null,
      "metadata": {
        "collapsed": false
      },
      "outputs": [],
      "source": [
        "freq, modes, fconstants, rmasses = vibrational_analysis(\n    masses, hessian, mode_kind=\"mdu\"\n)\ntorch.set_printoptions(precision=3, sci_mode=False)\nprint(\"Frequencies (cm^-1):\", freq[6:])\nprint(\"Force Constants (mDyne/A):\", fconstants[6:])\nprint(\"Reduced masses (AMU):\", rmasses[6:])\nprint(\"Modes:\", modes[6:])"
      ]
    }
  ],
  "metadata": {
    "kernelspec": {
      "display_name": "Python 3",
      "language": "python",
      "name": "python3"
    },
    "language_info": {
      "codemirror_mode": {
        "name": "ipython",
        "version": 3
      },
      "file_extension": ".py",
      "mimetype": "text/x-python",
      "name": "python",
      "nbconvert_exporter": "python",
      "pygments_lexer": "ipython3",
      "version": "3.11.13"
    }
  },
  "nbformat": 4,
  "nbformat_minor": 0
}