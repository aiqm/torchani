{
  "cells": [
    {
      "cell_type": "markdown",
      "metadata": {},
      "source": [
        "\n# Molecular dynamics using ASE\n\nThis example is modified from the official `home page`_ and `Constant temperature MD`_\nto use the ASE interface of TorchANI as energy calculator.\n\n    https://wiki.fysik.dtu.dk/ase/\n    https://wiki.fysik.dtu.dk/ase/tutorials/md/md.html#constant-temperature-md\n"
      ]
    },
    {
      "cell_type": "markdown",
      "metadata": {},
      "source": [
        "As always, we start by importing the modules we need\n\n"
      ]
    },
    {
      "cell_type": "code",
      "execution_count": null,
      "metadata": {
        "collapsed": false
      },
      "outputs": [],
      "source": [
        "import ase\nfrom ase.lattice.cubic import Diamond\nfrom ase.md.langevin import Langevin\nfrom ase.optimize import LBFGS\n\nimport torchani"
      ]
    },
    {
      "cell_type": "markdown",
      "metadata": {},
      "source": [
        "First we set up our system (in this case a diamond crystal, with PBC enabled)\n\n"
      ]
    },
    {
      "cell_type": "code",
      "execution_count": null,
      "metadata": {
        "collapsed": false
      },
      "outputs": [],
      "source": [
        "atoms = Diamond(symbol=\"C\", pbc=True)\nlen(atoms)  # The number of atoms in the system"
      ]
    },
    {
      "cell_type": "markdown",
      "metadata": {},
      "source": [
        "After, we create a calculator from an ANI model and attach it to our atoms\n\n"
      ]
    },
    {
      "cell_type": "code",
      "execution_count": null,
      "metadata": {
        "collapsed": false
      },
      "outputs": [],
      "source": [
        "atoms.calc = torchani.models.ANI2x().ase()"
      ]
    },
    {
      "cell_type": "markdown",
      "metadata": {},
      "source": [
        "Then we minimize our system using the\n[L-BFGS](https://en.wikipedia.org/wiki/Limited-memory_BFGS) optimizer,\nwhich is included in ASE, under `ase.optimize.LBFGS`.\n\n"
      ]
    },
    {
      "cell_type": "code",
      "execution_count": null,
      "metadata": {
        "collapsed": false
      },
      "outputs": [],
      "source": [
        "opt = LBFGS(atoms)\nopt.run(fmax=0.0002)"
      ]
    },
    {
      "cell_type": "markdown",
      "metadata": {},
      "source": [
        "We want to run constant temperature MD, and print some quantities throughout the MD.\nFor this we need to create a callback (function) that prints the quantities we are\ninterested in. For example, to print the energy of the system we can use:\n\n"
      ]
    },
    {
      "cell_type": "code",
      "execution_count": null,
      "metadata": {
        "collapsed": false
      },
      "outputs": [],
      "source": [
        "def print_energy(atoms: ase.Atoms):\n    pot_energy = atoms.get_potential_energy() / len(atoms)\n    kin_energy = atoms.get_kinetic_energy() / len(atoms)\n    temperature = kin_energy / (1.5 * ase.units.kB)\n    tot_energy = pot_energy + kin_energy\n    print(\n        \"Energy per atom: \\n\"\n        f\"    E_pot = {pot_energy:.3f} eV\\n\"\n        f\"    E_kin = {kin_energy:.3f} eV (T = {temperature:.1f} K)\\n\"\n        f\"    E_tot = {tot_energy:.3f} eV\\n\"\n    )"
      ]
    },
    {
      "cell_type": "markdown",
      "metadata": {},
      "source": [
        "We will use the Langevin thermostat to control the temperature. To do this we need to\nfirst construct an `ase.md.langevin.Langevin` object. Here we use with a time step of\n1 fs, a temperature of 300 K and a friction coefficient of 0.2\n\n"
      ]
    },
    {
      "cell_type": "code",
      "execution_count": null,
      "metadata": {
        "collapsed": false
      },
      "outputs": [],
      "source": [
        "dyn = Langevin(\n    atoms,\n    timestep=1 * ase.units.fs,\n    temperature_K=300,\n    friction=0.2,\n)\ndyn.attach(print_energy, interval=5, atoms=atoms)"
      ]
    },
    {
      "cell_type": "markdown",
      "metadata": {},
      "source": [
        "Finally we run the dynamics using ``dyn.run(steps)``\n\n"
      ]
    },
    {
      "cell_type": "code",
      "execution_count": null,
      "metadata": {
        "collapsed": false
      },
      "outputs": [],
      "source": [
        "print_energy(atoms)  # Print the initial energy\ndyn.run(50)"
      ]
    }
  ],
  "metadata": {
    "kernelspec": {
      "display_name": "Python 3",
      "language": "python",
      "name": "python3"
    },
    "language_info": {
      "codemirror_mode": {
        "name": "ipython",
        "version": 3
      },
      "file_extension": ".py",
      "mimetype": "text/x-python",
      "name": "python",
      "nbconvert_exporter": "python",
      "pygments_lexer": "ipython3",
      "version": "3.11.13"
    }
  },
  "nbformat": 4,
  "nbformat_minor": 0
}