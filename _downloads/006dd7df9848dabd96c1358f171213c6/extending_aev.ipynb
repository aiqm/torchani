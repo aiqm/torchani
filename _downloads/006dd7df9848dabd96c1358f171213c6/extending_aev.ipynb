{
  "cells": [
    {
      "cell_type": "markdown",
      "metadata": {},
      "source": [
        "\n# Extending the local atomic features: AEVs with custom terms and cutoffs\n\nTorchANI allows for simple customization of the AEV features. This is an important\nextension point of the library. Here we explain how to implement your own custom AEV\nterms and cutoff functions.\n"
      ]
    },
    {
      "cell_type": "code",
      "execution_count": null,
      "metadata": {
        "collapsed": false
      },
      "outputs": [],
      "source": [
        "# To begin with, let's first import the modules and setup devices we will use:\nimport torch\n\nfrom torchani.cutoffs import Cutoff\nfrom torchani.aev import AEVComputer, Angular, Radial\n\ndevice = torch.device(\"cuda\" if torch.cuda.is_available() else \"cpu\")"
      ]
    },
    {
      "cell_type": "markdown",
      "metadata": {},
      "source": [
        "We will use these coordinates and atomic nums throughout this example\n\n"
      ]
    },
    {
      "cell_type": "code",
      "execution_count": null,
      "metadata": {
        "collapsed": false
      },
      "outputs": [],
      "source": [
        "coords = torch.tensor(\n    [\n        [\n            [0.03192167, 0.00638559, 0.01301679],\n            [-0.83140486, 0.39370209, -0.26395324],\n            [-0.66518241, -0.84461308, 0.20759389],\n            [0.45554739, 0.54289633, 0.81170881],\n            [0.66091919, -0.16799635, -0.91037834],\n        ]\n    ],\n    device=device,\n)\nspecies = torch.tensor([[1, 0, 0, 0, 0]], device=device)"
      ]
    },
    {
      "cell_type": "markdown",
      "metadata": {},
      "source": [
        "First lets create an AEVComputer in the 2x style, for comparison:\n\n"
      ]
    },
    {
      "cell_type": "code",
      "execution_count": null,
      "metadata": {
        "collapsed": false
      },
      "outputs": [],
      "source": [
        "aevcomp = AEVComputer.like_2x().to(device)\naevs = aevcomp(species, coords)\nradial_len = aevcomp.radial_len"
      ]
    },
    {
      "cell_type": "markdown",
      "metadata": {},
      "source": [
        "Now we calculate some AEVs\n\n"
      ]
    },
    {
      "cell_type": "code",
      "execution_count": null,
      "metadata": {
        "collapsed": false
      },
      "outputs": [],
      "source": [
        "aevs = aevcomp(species, coords)"
      ]
    },
    {
      "cell_type": "markdown",
      "metadata": {},
      "source": [
        "The first 5 radial terms of the first atom:\n\n"
      ]
    },
    {
      "cell_type": "code",
      "execution_count": null,
      "metadata": {
        "collapsed": false
      },
      "outputs": [],
      "source": [
        "aevs[0, 0, :5].tolist()"
      ]
    },
    {
      "cell_type": "markdown",
      "metadata": {},
      "source": [
        "The first 5 angular terms of the first atom:\n\n"
      ]
    },
    {
      "cell_type": "code",
      "execution_count": null,
      "metadata": {
        "collapsed": false
      },
      "outputs": [],
      "source": [
        "radial_len = aevcomp.radial_len\naevs[0, 0, radial_len:radial_len + 5].tolist()"
      ]
    },
    {
      "cell_type": "markdown",
      "metadata": {},
      "source": [
        "Suppose we want to make one that is essentially the same, but using a different cutoff\nfunction, such as a smooth cutoff\n\n<div class=\"alert alert-danger\"><h4>Warning</h4><p>Be very careful, if a model has not been trained using this cutoff function\n  then using this aev computer with it will give nonsensical results</p></div>\n\n\n"
      ]
    },
    {
      "cell_type": "code",
      "execution_count": null,
      "metadata": {
        "collapsed": false
      },
      "outputs": [],
      "source": [
        "aevcomp_smooth = AEVComputer.like_1x(cutoff_fn=\"smooth\").to(device)\nradial_len = aevcomp_smooth.radial_len\naevs = aevcomp_smooth(species, coords)\nradial_len = aevcomp_smooth.radial_len"
      ]
    },
    {
      "cell_type": "markdown",
      "metadata": {},
      "source": [
        "Now we calculate some AEVs\n\n"
      ]
    },
    {
      "cell_type": "code",
      "execution_count": null,
      "metadata": {
        "collapsed": false
      },
      "outputs": [],
      "source": [
        "aevs = aevcomp_smooth(species, coords)"
      ]
    },
    {
      "cell_type": "markdown",
      "metadata": {},
      "source": [
        "The first 5 radial terms of the first atom:\n\n"
      ]
    },
    {
      "cell_type": "code",
      "execution_count": null,
      "metadata": {
        "collapsed": false
      },
      "outputs": [],
      "source": [
        "aevs[0, 0, :5].tolist()"
      ]
    },
    {
      "cell_type": "markdown",
      "metadata": {},
      "source": [
        "The first 5 angular terms of the first atom:\n\n"
      ]
    },
    {
      "cell_type": "code",
      "execution_count": null,
      "metadata": {
        "collapsed": false
      },
      "outputs": [],
      "source": [
        "radial_len = aevcomp_smooth.radial_len\naevs[0, 0, radial_len:radial_len + 5].tolist()"
      ]
    },
    {
      "cell_type": "markdown",
      "metadata": {},
      "source": [
        "Lets say now we want to experiment with a different cutoff function, such as a\nbiweight cutoff. Since biweight is not coded in TorchANI we can code it ourselves and\npass it to the AEVComputer, as long as the forward method has this form, it will work!\n\nThe same cutoff function will be used for both radial and angular terms\n\n"
      ]
    },
    {
      "cell_type": "code",
      "execution_count": null,
      "metadata": {
        "collapsed": false
      },
      "outputs": [],
      "source": [
        "class CutoffBiweight(Cutoff):\n    def forward(self, distances, cutoff):\n        # The calculation can assume all distances passed to be smaller than the cutoff\n        return (cutoff**2 - distances**2) ** 2 / cutoff**4\n\n\nbiweight = CutoffBiweight()\naevcomp_biweight = AEVComputer.like_1x(cutoff_fn=biweight).to(device)\nradial_len = aevcomp_biweight.radial_len"
      ]
    },
    {
      "cell_type": "markdown",
      "metadata": {},
      "source": [
        "Now we calculate some AEVs\n\n"
      ]
    },
    {
      "cell_type": "code",
      "execution_count": null,
      "metadata": {
        "collapsed": false
      },
      "outputs": [],
      "source": [
        "aevs = aevcomp_biweight(species, coords)"
      ]
    },
    {
      "cell_type": "markdown",
      "metadata": {},
      "source": [
        "The first 5 radial terms of the first atom:\n\n"
      ]
    },
    {
      "cell_type": "code",
      "execution_count": null,
      "metadata": {
        "collapsed": false
      },
      "outputs": [],
      "source": [
        "aevs[0, 0, :5].tolist()"
      ]
    },
    {
      "cell_type": "markdown",
      "metadata": {},
      "source": [
        "The first 5 angular terms of the first atom:\n\n"
      ]
    },
    {
      "cell_type": "code",
      "execution_count": null,
      "metadata": {
        "collapsed": false
      },
      "outputs": [],
      "source": [
        "radial_len = aevcomp_biweight.radial_len\naevs[0, 0, radial_len:radial_len + 5].tolist()"
      ]
    },
    {
      "cell_type": "markdown",
      "metadata": {},
      "source": [
        "Lets try something a bit more complicated. Lets experiment with different 2-body and\n3-body terms. Our 3-body terms will include a term ``exp(-eta_a * (cos(theta) -\ncos_phi)**2)``, and our 2-body terms will be lorentzians, with the form ``1 / (1 +\nx**2)``, where ``x = ((r - shifts) / fwhm)``. How can we do that?\n\nWe can pass custom modules to the ``AEVComputer``. The easiest\nway to code custom modules is, for the 2-body part, by subclassing ``Radial``,\nwhich can be used to calculate terms of the form ``R(r_ij) * fcut(r_ij)``, where\n``i, j`` is a pair of neighbors.\n\n"
      ]
    },
    {
      "cell_type": "code",
      "execution_count": null,
      "metadata": {
        "collapsed": false
      },
      "outputs": [],
      "source": [
        "class Lorentzian(Radial):\n    tensors = [\"shifts\", \"fwhm\"]  # Tensors we will use. fwhm = Full Width at Half Max\n\n    def compute(self, distances):\n        x = 2 * (distances - self.shifts) / self.fwhm\n        return 1 / (1 + x**2)"
      ]
    },
    {
      "cell_type": "markdown",
      "metadata": {},
      "source": [
        "And for the 3-body part, by subclassing ``Angular``, which calculates terms of the\nform ``R(r_ij, r_ik) * A(cos(theta_ijk)) * fcut(r_ij) * fcut(r_ik)``,\nwhere ``i, j, k`` is a triple consisting on two pairs of neighbors\nthat share one atom in common.\n\n"
      ]
    },
    {
      "cell_type": "code",
      "execution_count": null,
      "metadata": {
        "collapsed": false
      },
      "outputs": [],
      "source": [
        "class ExpCosine(Angular):\n    angles_tensors = [\"cos_phi\", \"eta_a\"]  # Tensors we will use in A(cos(theta_ijk))\n    radial_tensors = [\"shifts\", \"eta_r\"]  # Tensors we will use in R(r_ij, r_ik)\n\n    def compute_cos_angles(self, cos_angles):\n        return 2 * torch.exp(-self.eta_a * (cos_angles - self.cos_phi) ** 2)\n\n    def compute_radial(self, distances_ji, distances_jk):\n        mean_dists = (distances_ji + distances_jk) / 2\n        return 2 * torch.exp(-self.eta_r * (mean_dists - self.shifts) ** 2)"
      ]
    },
    {
      "cell_type": "markdown",
      "metadata": {},
      "source": [
        "Now lets initialize the angular module with constants\n\n"
      ]
    },
    {
      "cell_type": "code",
      "execution_count": null,
      "metadata": {
        "collapsed": false
      },
      "outputs": [],
      "source": [
        "custom_3body = ExpCosine(\n    eta_r=8.0,\n    shifts=[0.9000, 1.5500, 2.2000, 2.8500],\n    eta_a=[1023.0, 146.5, 36.0, 18.6, 15.5, 18.6, 36.0, 146.5, 1023.0],\n    cos_phi=[1.0, 0.75, 0.5, 0.25, 0.0, -0.25, -0.5, -0.75, -1.0],\n    cutoff=3.5,\n    cutoff_fn=\"smooth\",\n)"
      ]
    },
    {
      "cell_type": "markdown",
      "metadata": {},
      "source": [
        "For the 3-body module, we want to make the shifts trainable, which is supported.\nif we wanted to make both ``fwhm`` and ``shifts`` trainable we could use\n``trainable=[\"shifts\", \"fwhm\"]``\n\n"
      ]
    },
    {
      "cell_type": "code",
      "execution_count": null,
      "metadata": {
        "collapsed": false
      },
      "outputs": [],
      "source": [
        "custom_2body = Lorentzian(\n    fwhm=1.5,\n    shifts=[0.0, 1.0, 2.0, 3.0, 4.0],\n    trainable=\"shifts\",\n    cutoff=5.2,\n    cutoff_fn=\"smooth\",\n)"
      ]
    },
    {
      "cell_type": "markdown",
      "metadata": {},
      "source": [
        "Finally we create our custom AEVComputer, which will use the specified terms\n\n"
      ]
    },
    {
      "cell_type": "code",
      "execution_count": null,
      "metadata": {
        "collapsed": false
      },
      "outputs": [],
      "source": [
        "custom_aev = AEVComputer(radial=custom_2body, angular=custom_3body, num_species=4).to(\n    device\n)"
      ]
    },
    {
      "cell_type": "markdown",
      "metadata": {},
      "source": [
        "Now we calculate some AEVs\n\n"
      ]
    },
    {
      "cell_type": "code",
      "execution_count": null,
      "metadata": {
        "collapsed": false
      },
      "outputs": [],
      "source": [
        "aevs = custom_aev(species, coords)"
      ]
    },
    {
      "cell_type": "markdown",
      "metadata": {},
      "source": [
        "The first 5 radial terms of the first atom:\n\n"
      ]
    },
    {
      "cell_type": "code",
      "execution_count": null,
      "metadata": {
        "collapsed": false
      },
      "outputs": [],
      "source": [
        "aevs[0, 0, :5].tolist()"
      ]
    },
    {
      "cell_type": "markdown",
      "metadata": {},
      "source": [
        "The first 5 angular terms of the first atom:\n\n"
      ]
    },
    {
      "cell_type": "code",
      "execution_count": null,
      "metadata": {
        "collapsed": false
      },
      "outputs": [],
      "source": [
        "radial_len = custom_aev.radial_len\naevs[0, 0, radial_len:radial_len + 5].tolist()"
      ]
    }
  ],
  "metadata": {
    "kernelspec": {
      "display_name": "Python 3",
      "language": "python",
      "name": "python3"
    },
    "language_info": {
      "codemirror_mode": {
        "name": "ipython",
        "version": 3
      },
      "file_extension": ".py",
      "mimetype": "text/x-python",
      "name": "python",
      "nbconvert_exporter": "python",
      "pygments_lexer": "ipython3",
      "version": "3.11.13"
    }
  },
  "nbformat": 4,
  "nbformat_minor": 0
}