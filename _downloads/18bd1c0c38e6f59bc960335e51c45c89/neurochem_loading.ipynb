{
  "cells": [
    {
      "cell_type": "markdown",
      "metadata": {},
      "source": [
        "\n# Constructing a TorchANI model from NeuroChem files\n\nThis tutorial illustrates how to manually load model from `NeuroChem files`_.\n\n    https://github.com/isayev/ASE_ANI/tree/master/ani_models\n"
      ]
    },
    {
      "cell_type": "code",
      "execution_count": null,
      "metadata": {
        "collapsed": false
      },
      "outputs": [],
      "source": [
        "# To begin with, let's first import the modules we will use:\nfrom pathlib import Path\nimport torch\n\nfrom torchani.paths import neurochem_dir\nfrom torchani.grad import energies_and_forces\nfrom torchani.neurochem import (\n    download_model_parameters,\n    load_aev_computer_and_symbols,\n    load_sae,\n    load_member,\n    load_ensemble,\n    load_model_from_info_file,\n)"
      ]
    },
    {
      "cell_type": "markdown",
      "metadata": {},
      "source": [
        "First lets download all model parameters, by default they will be loaded into\ntorchani.paths.NEUROCHEM, which is ~/.local/torchani/Neurochem.\n\n"
      ]
    },
    {
      "cell_type": "code",
      "execution_count": null,
      "metadata": {
        "collapsed": false
      },
      "outputs": [],
      "source": [
        "root = neurochem_dir()\ndownload_model_parameters()"
      ]
    },
    {
      "cell_type": "markdown",
      "metadata": {},
      "source": [
        "Now let's read constants from constant file and construct AEV computer,\nThe sae's and construct a SelfEnergy potential,\nand the networks to construct an ensemble\n\n"
      ]
    },
    {
      "cell_type": "code",
      "execution_count": null,
      "metadata": {
        "collapsed": false
      },
      "outputs": [],
      "source": [
        "const_file = Path(root, \"ani-1x_8x\", \"rHCNO-5.2R_16-3.5A_a4-8.params\")\naev_computer, symbols = load_aev_computer_and_symbols(const_file)\nmodel_prefix = Path(root, \"ani-1x_8x\", \"train\")\nensemble = load_ensemble(symbols, model_prefix, 8)\nsae_file = Path(root, \"ani-1x_8x\", \"sae_linfit.dat\")\nenergy_shifter = load_sae(sae_file)"
      ]
    },
    {
      "cell_type": "markdown",
      "metadata": {},
      "source": [
        "We can also load a single model from the ensemble\n\n"
      ]
    },
    {
      "cell_type": "code",
      "execution_count": null,
      "metadata": {
        "collapsed": false
      },
      "outputs": [],
      "source": [
        "model_dir = Path(root, \"ani-1x_8x\", \"train0\", \"networks\")\nmember = load_member(symbols, model_dir)"
      ]
    },
    {
      "cell_type": "markdown",
      "metadata": {},
      "source": [
        "We can also load an ANI model using neurochem\n\n"
      ]
    },
    {
      "cell_type": "code",
      "execution_count": null,
      "metadata": {
        "collapsed": false
      },
      "outputs": [],
      "source": [
        "ensemble_model = load_model_from_info_file(root / \"ani-1x_8x.info\")\nsingle_model = load_model_from_info_file(root / \"ani-1x_8x.info\", model_index=0)\nprint(ensemble_model)\nprint(single_model)"
      ]
    },
    {
      "cell_type": "markdown",
      "metadata": {},
      "source": [
        "Now let's define a methane molecule\n\n"
      ]
    },
    {
      "cell_type": "code",
      "execution_count": null,
      "metadata": {
        "collapsed": false
      },
      "outputs": [],
      "source": [
        "coordinates = torch.tensor(\n    [\n        [\n            [0.03192167, 0.00638559, 0.01301679],\n            [-0.83140486, 0.39370209, -0.26395324],\n            [-0.66518241, -0.84461308, 0.20759389],\n            [0.45554739, 0.54289633, 0.81170881],\n            [0.66091919, -0.16799635, -0.91037834],\n        ]\n    ],\n)\nspecies = torch.tensor([[6, 1, 1, 1, 1]], dtype=torch.long)"
      ]
    },
    {
      "cell_type": "markdown",
      "metadata": {},
      "source": [
        "Now let's compute energies using the ensemble directly:\n\n"
      ]
    },
    {
      "cell_type": "code",
      "execution_count": null,
      "metadata": {
        "collapsed": false
      },
      "outputs": [],
      "source": [
        "energies, forces = energies_and_forces(ensemble_model, species, coordinates)\nprint(\"Energy:\", energies.item())\nprint(\"Force:\", forces.squeeze())"
      ]
    },
    {
      "cell_type": "markdown",
      "metadata": {},
      "source": [
        "We can do the same thing with the single model:\n\n"
      ]
    },
    {
      "cell_type": "code",
      "execution_count": null,
      "metadata": {
        "collapsed": false
      },
      "outputs": [],
      "source": [
        "energies, forces = energies_and_forces(single_model, species, coordinates)\nprint(\"Energy:\", energies.item())\nprint(\"Force:\", forces.squeeze())"
      ]
    }
  ],
  "metadata": {
    "kernelspec": {
      "display_name": "Python 3",
      "language": "python",
      "name": "python3"
    },
    "language_info": {
      "codemirror_mode": {
        "name": "ipython",
        "version": 3
      },
      "file_extension": ".py",
      "mimetype": "text/x-python",
      "name": "python",
      "nbconvert_exporter": "python",
      "pygments_lexer": "ipython3",
      "version": "3.11.13"
    }
  },
  "nbformat": 4,
  "nbformat_minor": 0
}