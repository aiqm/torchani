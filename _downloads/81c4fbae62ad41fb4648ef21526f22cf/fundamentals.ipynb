{
  "cells": [
    {
      "cell_type": "markdown",
      "metadata": {},
      "source": [
        "\n# Fundamentals of TorchANI\n\nThe TorchANI library provides a set of pre-trained models that can be used directly. All\nprovided models are subclasses of class `torchani.arch.ANI`.\n\nIt also contains classes such as `torchani.aev.AEVComputer`, `torchani.nn.ANINetworks`,\nand `torchani.sae.SelfEnergy` that can be combined to compute molecular energies\nfrom the cartesian coordinates of molecules, and it includes tools to deal with ANI\ndatasets in the submodule `torchani.datasets`.\n\nHere introduce the basics of the library, and we show how to use the built-in models to\nuseful quantities of single molecules and batches.\n"
      ]
    },
    {
      "cell_type": "code",
      "execution_count": null,
      "metadata": {
        "collapsed": false
      },
      "outputs": [],
      "source": [
        "# To begin with, let's first import the modules we will use:\nimport torch\n\nimport torchani\nfrom torchani.grad import energies_and_forces"
      ]
    },
    {
      "cell_type": "markdown",
      "metadata": {},
      "source": [
        "``torchani`` dependens on the ``torch`` library. Some familiarity with it is helpful,\nbut you don't need to be an expert with ``torch`` in order to use ``torchani``. The\nmain object in ``torch`` is a ``Tensor``, which is very similar to a ``numpy``\nmulti-dimensional array. Its three most important properties are *data type*\n(``dtype``), *device*, and *shape*. Each time you create one, you can pass arguments\nto specify these. Lets create a couple as an example\n\n"
      ]
    },
    {
      "cell_type": "code",
      "execution_count": null,
      "metadata": {
        "collapsed": false
      },
      "outputs": [],
      "source": [
        "device = \"cpu\"\n\n# The ``dtype`` of this tensor is ``torch.int64``, and its shape is (1, 5)\natomic_nums = torch.tensor([[6, 1, 1, 1, 1]], device=device)\n\n# The ``dtype`` of this one is ``torch.float32``, its shape is (1, 5, 3)\ncoords = torch.tensor(\n    [[[0.03192167, 0.00638559, 0.01301679],\n      [-0.83140486, 0.39370209, -0.26395324],\n      [-0.66518241, -0.84461308, 0.20759389],\n      [0.45554739, 0.54289633, 0.81170881],\n      [0.66091919, -0.16799635, -0.91037834]]],\n    device=device,\n)"
      ]
    },
    {
      "cell_type": "markdown",
      "metadata": {},
      "source": [
        "These tensors represent the coordinates (in angstrom) and atomic_nums of a methane\nmolecule. We put the tensors in ``\"cpu\"``, but you can use ``device=\"cuda\"`` if you\nhave a CUDA capable GPU. Tensors of coordinates in ``torchani`` have shape\n``(molecules, atoms, 3)`` and dtype ``torch.float32|64``, tensors of atomic numbers\nhave shape ``(molecules, atoms)``, and dtype ``torch.long``.\n\n``torchani`` provides a set of pre-trained models, which are predictors that calculate\nproperties of molecular systems. The built-in models can be used directly ``ANI``.\n\nLets load the ANI-2x model, which is an 'ensemble' of 8 sub-models trained with\ndifferent initial seeds, and to different sections of the \"ANI-2x dataset\". Using an\nensemble is recommended, since althought its a bit more costly than using a single\nmodel, its significantly more accurate.\n\n"
      ]
    },
    {
      "cell_type": "code",
      "execution_count": null,
      "metadata": {
        "collapsed": false
      },
      "outputs": [],
      "source": [
        "model = torchani.models.ANI2x(device=device)"
      ]
    },
    {
      "cell_type": "markdown",
      "metadata": {},
      "source": [
        "As you can see, similarly to tensors, ``torchani`` models also have a ``device`` and a\n``dtype``, which are the device and dtype their internal parameters. If your inputs\nare in CPU, then the model should be in CPU, and similarly for CUDA GPUs. By\ndefault all models have ``dtype=torch.float32``.\n\n"
      ]
    },
    {
      "cell_type": "markdown",
      "metadata": {},
      "source": [
        "Now let's compute energy and force:\n\n"
      ]
    },
    {
      "cell_type": "code",
      "execution_count": null,
      "metadata": {
        "collapsed": false
      },
      "outputs": [],
      "source": [
        "energy, force = energies_and_forces(model, atomic_nums, coords)"
      ]
    },
    {
      "cell_type": "markdown",
      "metadata": {},
      "source": [
        "And print to see the result:\n\n"
      ]
    },
    {
      "cell_type": "code",
      "execution_count": null,
      "metadata": {
        "collapsed": false
      },
      "outputs": [],
      "source": [
        "print(\"Energy (Hartree):\", energy.item())\nprint(\"Force (Hartree / \u00c5): \\n\", force)"
      ]
    },
    {
      "cell_type": "markdown",
      "metadata": {},
      "source": [
        "you can get the atomic energies (WARNING: these have no physical meaning)\nby calling:\n\n"
      ]
    },
    {
      "cell_type": "code",
      "execution_count": null,
      "metadata": {
        "collapsed": false
      },
      "outputs": [],
      "source": [
        "_, atomic_energies = model.atomic_energies((atomic_nums, coords))"
      ]
    },
    {
      "cell_type": "markdown",
      "metadata": {},
      "source": [
        "this gives you the average (shifted) energies over all models of the ensemble\nby default, with the same shape as the coordinates.\n(Dummy atoms, if present, will have an energy of zero.)\n\n"
      ]
    },
    {
      "cell_type": "code",
      "execution_count": null,
      "metadata": {
        "collapsed": false
      },
      "outputs": [],
      "source": [
        "print(\"Average Atomic energies: \\n\", atomic_energies)"
      ]
    },
    {
      "cell_type": "markdown",
      "metadata": {},
      "source": [
        "you can access model specific atomic energies too:\n\n"
      ]
    },
    {
      "cell_type": "code",
      "execution_count": null,
      "metadata": {
        "collapsed": false
      },
      "outputs": [],
      "source": [
        "_, atomic_energies = model.atomic_energies((atomic_nums, coords), ensemble_values=True)\nprint(\"Atomic energies of first model: \\n\", atomic_energies[0, :, :])"
      ]
    }
  ],
  "metadata": {
    "kernelspec": {
      "display_name": "Python 3",
      "language": "python",
      "name": "python3"
    },
    "language_info": {
      "codemirror_mode": {
        "name": "ipython",
        "version": 3
      },
      "file_extension": ".py",
      "mimetype": "text/x-python",
      "name": "python",
      "nbconvert_exporter": "python",
      "pygments_lexer": "ipython3",
      "version": "3.11.13"
    }
  },
  "nbformat": 4,
  "nbformat_minor": 0
}