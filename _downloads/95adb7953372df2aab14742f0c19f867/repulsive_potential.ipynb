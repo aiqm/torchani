{
  "cells": [
    {
      "cell_type": "markdown",
      "metadata": {},
      "source": [
        "\n# Using xTB repulsion\n\nTorchANI can use semiempirical XTB repulsion to improve the description of the\npotential energy surface at short distances\n"
      ]
    },
    {
      "cell_type": "code",
      "execution_count": null,
      "metadata": {
        "collapsed": false
      },
      "outputs": [],
      "source": [
        "# To begin with, let's first import the modules and setup devices we will use:\nimport torch\n\nfrom torchani.potentials import RepulsionXTB\nfrom torchani.grad import energies_and_forces\n\ndevice = torch.device(\"cuda\" if torch.cuda.is_available() else \"cpu\")\nrep = RepulsionXTB(cutoff=5.2, symbols=(\"H\", \"C\", \"N\", \"O\")).to(device)\n\ncoordinates = torch.tensor(\n    [\n        [\n            [0.03192167, 0.00638559, 0.01301679],\n            [-0.83140486, 0.39370209, -0.26395324],\n            [-0.66518241, -0.84461308, 0.20759389],\n            [0.45554739, 0.54289633, 0.81170881],\n            [0.66091919, -0.16799635, -0.91037834],\n        ]\n    ],\n    device=device,\n)\nznumbers = torch.tensor([[6, 1, 1, 1, 1]], device=device)\nrep_energy, force = energies_and_forces(rep, znumbers, coordinates)\nprint(\"Repulsion Energy:\", rep_energy)\nprint(\"Force:\", force.squeeze())\n\n# Repulsion can also be calculated for batches of coordinates\n# (here we just repeat the methanes as an example, but different molecules\n# can be passed by using dummy \"-1\" atoms in the species)\nr = 4\ncoordinates = coordinates.repeat(r, 1, 1)\nznumbers = znumbers.repeat(r, 1)\nrep_energy, force = energies_and_forces(rep, znumbers, coordinates)\nprint(\"Repulsion Energy:\", rep_energy)\nprint(\"Force:\", force.squeeze())\n\n# Different supported species can be passed down to the constructor\nrep = RepulsionXTB(cutoff=5.2, symbols=(\"H\", \"C\", \"N\", \"O\", \"S\", \"Fe\")).to(\n    device\n)\n# Here we change the species a bit to make a nonesense molecule\ncoordinates = torch.tensor(\n    [\n        [\n            [0.03192167, 0.00638559, 0.01301679],\n            [-0.83140486, 0.39370209, -0.26395324],\n            [-0.66518241, -0.84461308, 0.20759389],\n            [0.45554739, 0.54289633, 0.81170881],\n            [0.66091919, -0.16799635, -0.91037834],\n        ]\n    ],\n    device=device,\n)\nznumbers = torch.tensor([[6, 16, 1, 8, 26]], device=device)\nrep_energy, force = energies_and_forces(rep, znumbers, coordinates)\nprint(\"Repulsion Energy:\", rep_energy)\nprint(\"Force:\", force.squeeze())"
      ]
    }
  ],
  "metadata": {
    "kernelspec": {
      "display_name": "Python 3",
      "language": "python",
      "name": "python3"
    },
    "language_info": {
      "codemirror_mode": {
        "name": "ipython",
        "version": 3
      },
      "file_extension": ".py",
      "mimetype": "text/x-python",
      "name": "python",
      "nbconvert_exporter": "python",
      "pygments_lexer": "ipython3",
      "version": "3.11.13"
    }
  },
  "nbformat": 4,
  "nbformat_minor": 0
}